{
 "cells": [
  {
   "cell_type": "markdown",
   "id": "af6489af",
   "metadata": {},
   "source": [
    "### QML 3a.  Variational Quantum Classifier (VQCs) or Quantum Neural Networks (QNNs)\n",
    "The goal is to find a function $f$ with parameters $\\theta$ that maps a data vector / image $\\vec{x}$ to the correct category: $f_\\theta(\\vec{x}) \\rightarrow \\pm1$. This will be accomplished using a VQC with few layers that can be identified by their distinct purposes:\n",
    "\n",
    "$$\n",
    "f_\\theta(\\vec{x}) = \\langle 0|U^{\\dagger}(\\vec{x})W^\\dagger(\\theta)OW(\\theta)U(\\vec{x})|0\\rangle\n",
    "$$\n",
    "\n",
    "Here, $U(\\vec{x})$ is the encoding circuit, for which we have many options as seen in previous lessons. $W(\\theta)$ is a variational, or trainable circuit block, and $\\theta$ is the set of parameters to be trained. Those parameters will be varied by classical optimization algorithms to find the set of parameters that yields the best classification of images by the quantum circuit. This variational circuit is sometimes called the \"ansatz\". Finally, $O$ is some observable that will be estimated using the Estimator primitive. There is no constraint that forces the layers to come in this order, or even to be fully separate. One could have multiple variational and/or encoding layers in any order that is technically motivated."
   ]
  },
  {
   "cell_type": "markdown",
   "id": "d37ee68d",
   "metadata": {},
   "source": [
    "If you are running this notebook in VS code, your environment must have the following libraries installed. If you are running this in google colab, you need to install the following libraries each time you initialize colab session.\n",
    "\n",
    "`qiskit, qiskit-aer, qiskit-ibm-runtime, matplotlib, pylatexenc, pandas, scikit-learn`"
   ]
  },
  {
   "cell_type": "markdown",
   "id": "8b61bad0",
   "metadata": {},
   "source": [
    "### 1. Dataset\n",
    "Let us create a toy data set with one feature and labels 1 or -1 randomaly and vizualize it"
   ]
  },
  {
   "cell_type": "code",
   "execution_count": 1,
   "id": "e0cfcb0c",
   "metadata": {},
   "outputs": [
    {
     "data": {
      "image/png": "[encoded data removed]",
      "text/plain": [
       "<Figure size 800x400 with 1 Axes>"
      ]
     },
     "metadata": {},
     "output_type": "display_data"
    }
   ],
   "source": [
    "# Assign arbitrary labels (-1 or 1) randomly to each sample\n",
    "import numpy as np\n",
    "import matplotlib.pyplot as plt\n",
    "np.random.seed(42)\n",
    "X = np.random.rand(50) * 2*np.pi  # 20 random samples in range [0, 10]\n",
    "y_arbitrary = np.random.choice([-1, 1], size=X.shape)\n",
    "\n",
    "# Plot with arbitrary labels\n",
    "plt.figure(figsize=(8, 4))\n",
    "for xi, yi in zip(X, y_arbitrary):\n",
    "    if yi == 1:\n",
    "        plt.scatter(xi, 0, marker='o', color='blue', label='1' if '1' not in plt.gca().get_legend_handles_labels()[1] else \"\")\n",
    "    else:\n",
    "        plt.scatter(xi, 0, marker='x', color='red', label='-1' if '-1' not in plt.gca().get_legend_handles_labels()[1] else \"\")\n",
    "plt.xlabel('Feature')\n",
    "plt.yticks([])\n",
    "plt.legend()\n",
    "plt.title('Synthetic Dataset with Arbitrary Labels')\n",
    "plt.show()"
   ]
  },
  {
   "cell_type": "code",
   "execution_count": 2,
   "id": "751c903d",
   "metadata": {},
   "outputs": [],
   "source": [
    "from sklearn.model_selection import train_test_split\n",
    "\n",
    "X_train, X_test, y_train, y_test = train_test_split(X, y_arbitrary, test_size=0.3, random_state=42)"
   ]
  },
  {
   "cell_type": "code",
   "execution_count": 3,
   "id": "bb4a5233",
   "metadata": {},
   "outputs": [
    {
     "name": "stdout",
     "output_type": "stream",
     "text": [
      "test size: 15 , train size: 35\n"
     ]
    }
   ],
   "source": [
    "test_size = np.shape(X_test)[0]\n",
    "train_size = np.shape(X_train)[0]\n",
    "print('test size:', test_size, ', train size:', train_size)"
   ]
  },
  {
   "cell_type": "markdown",
   "id": "8c7393bc",
   "metadata": {},
   "source": [
    "### 2. U(x,$\\theta$)\n",
    "Let us create a simple variational circuit for data input and with a weight parameter"
   ]
  },
  {
   "cell_type": "code",
   "execution_count": 4,
   "id": "0bd2cda8",
   "metadata": {},
   "outputs": [
    {
     "data": {
      "image/png": "[encoded data removed]",
      "text/plain": [
       "<Figure size 352.675x117.056 with 1 Axes>"
      ]
     },
     "execution_count": 4,
     "metadata": {},
     "output_type": "execute_result"
    }
   ],
   "source": [
    "from qiskit.circuit import Parameter, QuantumCircuit\n",
    "\n",
    "circuit = QuantumCircuit(1)\n",
    "x = Parameter('x')\n",
    "theta = Parameter('θ')\n",
    "circuit.rx(x, 0)\n",
    "circuit.ry(theta, 0)\n",
    "circuit.h(0)\n",
    "\n",
    "\n",
    "circuit.draw('mpl')"
   ]
  },
  {
   "cell_type": "code",
   "execution_count": 5,
   "id": "937014b5",
   "metadata": {},
   "outputs": [
    {
     "data": {
      "text/plain": [
       "ParameterView([Parameter(x), Parameter(θ)])"
      ]
     },
     "execution_count": 5,
     "metadata": {},
     "output_type": "execute_result"
    }
   ],
   "source": [
    "circuit.parameters"
   ]
  },
  {
   "cell_type": "code",
   "execution_count": 6,
   "id": "8c814962",
   "metadata": {},
   "outputs": [
    {
     "data": {
      "text/plain": [
       "SparsePauliOp(['Z'],\n",
       "              coeffs=[1.+0.j])"
      ]
     },
     "execution_count": 6,
     "metadata": {},
     "output_type": "execute_result"
    }
   ],
   "source": [
    "from qiskit.quantum_info import SparsePauliOp\n",
    "\n",
    "observable = SparsePauliOp.from_list([(\"Z\", 1)])\n",
    "observable"
   ]
  },
  {
   "cell_type": "markdown",
   "id": "522b5cb7",
   "metadata": {},
   "source": [
    "### 3. Define a function for forward pass\n",
    "The function takes as input circuit, weight paramters and input data, estimator and observables and gives an array of expectation values as output"
   ]
  },
  {
   "cell_type": "code",
   "execution_count": 7,
   "id": "4df17576",
   "metadata": {},
   "outputs": [],
   "source": [
    "from qiskit.primitives import BaseEstimatorV2\n",
    "from qiskit.quantum_info.operators.base_operator import BaseOperator\n",
    "import numpy as np\n",
    "\n",
    "def forward(circuit,input_params,weight_params,estimator,observable):\n",
    "    num_samples = input_params.shape[0]\n",
    "    weights0 = np.full_like(input_params, weight_params[0])\n",
    "    params= [[inp, w0] for inp, w0 in zip(input_params, weights0)]\n",
    "    pub = (circuit, observable, params)\n",
    "    job = estimator.run([pub])\n",
    "    result = job.result()[0]\n",
    "    expectation_values = result.data.evs\n",
    "    return expectation_values"
   ]
  },
  {
   "cell_type": "markdown",
   "id": "d10d3e3f",
   "metadata": {},
   "source": [
    "let us choose a simple loss"
   ]
  },
  {
   "cell_type": "code",
   "execution_count": 8,
   "id": "dce9fd4a",
   "metadata": {},
   "outputs": [],
   "source": [
    "def mse_loss(predict, target):\n",
    "    return ((predict - target) ** 2).mean()\n"
   ]
  },
  {
   "cell_type": "markdown",
   "id": "7771710d",
   "metadata": {},
   "source": [
    "### 4. Define function to compute cost for given weight parameters"
   ]
  },
  {
   "cell_type": "code",
   "execution_count": 9,
   "id": "aab17b1a",
   "metadata": {},
   "outputs": [],
   "source": [
    "def mse_loss_weights(weight_params):\n",
    "    predictions = forward(circuit=circuit,input_params=input_params,\n",
    "        weight_params=weight_params,estimator=estimator,observable=observable)\n",
    "\n",
    "    cost = mse_loss(predict=predictions, target=target)\n",
    "    objective_func_vals.append(cost)\n",
    "\n",
    "    global iter\n",
    "    if iter % 10 == 0:\n",
    "        print(f\"Iter: {iter}, loss: {cost}\")\n",
    "    iter += 1\n",
    "\n",
    "    return cost"
   ]
  },
  {
   "cell_type": "markdown",
   "id": "1aab1bce",
   "metadata": {},
   "source": [
    "### 5. Training\n",
    "Use a chosen optimization routine"
   ]
  },
  {
   "cell_type": "code",
   "execution_count": 10,
   "id": "ca1d4228",
   "metadata": {},
   "outputs": [
    {
     "name": "stdout",
     "output_type": "stream",
     "text": [
      "Epoch: 0\n",
      "Iter: 0, loss: 1.9507547147112583\n",
      "Iter: 10, loss: 0.9076923845976616\n",
      "Iter: 20, loss: 0.9076829267526593\n",
      "Iter: 30, loss: 0.9076828874058518\n"
     ]
    }
   ],
   "source": [
    "from qiskit.primitives import StatevectorEstimator as Estimator\n",
    "from scipy.optimize import minimize\n",
    "import numpy as np\n",
    "num_epochs = 1\n",
    "num_samples = len(X_train)\n",
    "\n",
    "# Globals\n",
    "circuit = circuit\n",
    "estimator = Estimator()  # simulator for debugging\n",
    "observables = observable\n",
    "objective_func_vals = []\n",
    "iter = 0\n",
    "\n",
    "weight_params = np.random.rand() * 2 * np.pi\n",
    "\n",
    "for epoch in range(num_epochs):\n",
    "    print(f\"Epoch: {epoch}\")\n",
    "    input_params = X_train\n",
    "    target = y_train\n",
    "    iter = 0\n",
    "    res = minimize(\n",
    "        mse_loss_weights, weight_params, method = \"COBYLA\", options={\"maxiter\": 100,'tol': 1e-8}\n",
    "    )\n",
    "    weight_params = res[\"x\"]"
   ]
  },
  {
   "cell_type": "code",
   "execution_count": 11,
   "id": "ec70864c",
   "metadata": {},
   "outputs": [
    {
     "data": {
      "image/png": "[encoded data removed]",
      "text/plain": [
       "<Figure size 1200x600 with 1 Axes>"
      ]
     },
     "metadata": {},
     "output_type": "display_data"
    }
   ],
   "source": [
    "obj_func_vals_first = objective_func_vals\n",
    "import matplotlib.pyplot as plt\n",
    "\n",
    "plt.figure(figsize=(12, 6))\n",
    "plt.plot(obj_func_vals_first, label=\"first ansatz\")\n",
    "plt.xlabel(\"iteration\")\n",
    "plt.ylabel(\"loss\")\n",
    "plt.legend()\n",
    "plt.show()"
   ]
  },
  {
   "cell_type": "markdown",
   "id": "6406ac83",
   "metadata": {},
   "source": [
    "### 6. Training accuracy"
   ]
  },
  {
   "cell_type": "code",
   "execution_count": 12,
   "id": "66d85c1a",
   "metadata": {},
   "outputs": [
    {
     "name": "stdout",
     "output_type": "stream",
     "text": [
      "[ 0.39215717 -0.41961211 -0.15872785 -0.41647204  0.17057849 -0.10931771\n",
      " -0.14032164 -0.40391424  0.41005504  0.20102995 -0.29598788 -0.02314732\n",
      " -0.41812695  0.39833997  0.23379109  0.40205187  0.41232434 -0.14124487\n",
      "  0.39983635  0.268621   -0.04739354  0.35348922  0.15060223 -0.28030625\n",
      "  0.30231926  0.41629853 -0.10987082 -0.38200679  0.16707687 -0.320328\n",
      "  0.27994143  0.41004342  0.17437696 -0.35099966 -0.16857934]\n",
      "[ 1. -1. -1. -1.  1. -1. -1. -1.  1.  1. -1. -1. -1.  1.  1.  1.  1. -1.\n",
      "  1.  1. -1.  1.  1. -1.  1.  1. -1. -1.  1. -1.  1.  1.  1. -1. -1.]\n",
      "[ 1 -1 -1 -1  1 -1 -1 -1 -1 -1 -1  1 -1 -1  1  1 -1 -1  1 -1  1  1 -1 -1\n",
      "  1  1  1  1  1  1  1  1 -1  1 -1]\n",
      "Train accuracy: 62.857142857142854%\n"
     ]
    }
   ],
   "source": [
    "import copy\n",
    "from sklearn.metrics import accuracy_score\n",
    "from qiskit.primitives import StatevectorEstimator as Estimator  # simulator\n",
    "# from qiskit_ibm_runtime import EstimatorV2 as Estimator  # real quantum computer\n",
    "\n",
    "estimator = Estimator()\n",
    "# estimator = Estimator(backend=backend)\n",
    "\n",
    "pred_train = forward(circuit, np.array(X_train), res[\"x\"], estimator, observable)\n",
    "# pred_train = forward(circuit_ibm, np.array(train_images), res['x'], estimator, observable_ibm)\n",
    "\n",
    "print(pred_train)\n",
    "\n",
    "pred_train_labels = copy.deepcopy(pred_train)\n",
    "pred_train_labels[pred_train_labels >= 0] = 1\n",
    "pred_train_labels[pred_train_labels < 0] = -1\n",
    "print(pred_train_labels)\n",
    "print(y_train)\n",
    "\n",
    "accuracy = accuracy_score(y_train, pred_train_labels)\n",
    "print(f\"Train accuracy: {accuracy * 100}%\")"
   ]
  },
  {
   "cell_type": "markdown",
   "id": "949c6f17",
   "metadata": {},
   "source": [
    "### 7. Test accuracy"
   ]
  },
  {
   "cell_type": "code",
   "execution_count": 13,
   "id": "70aee6c9",
   "metadata": {},
   "outputs": [
    {
     "name": "stdout",
     "output_type": "stream",
     "text": [
      "[ 0.0984141  -0.39047258 -0.32755449 -0.21929731 -0.41473638 -0.40185411\n",
      "  0.13054492  0.09203049  0.38522378 -0.10753834  0.20786452  0.23373825\n",
      "  0.34320198 -0.33789222 -0.34169707]\n",
      "[ 1. -1. -1. -1. -1. -1.  1.  1.  1. -1.  1.  1.  1. -1. -1.]\n",
      "[ 1 -1  1 -1  1 -1  1  1 -1 -1  1  1 -1  1  1]\n",
      "Test accuracy: 60.0%\n"
     ]
    }
   ],
   "source": [
    "import copy\n",
    "from sklearn.metrics import accuracy_score\n",
    "from qiskit.primitives import StatevectorEstimator as Estimator  # simulator\n",
    "# from qiskit_ibm_runtime import EstimatorV2 as Estimator  # real quantum computer\n",
    "\n",
    "estimator = Estimator()\n",
    "# estimator = Estimator(backend=backend)\n",
    "\n",
    "pred_test = forward(circuit, np.array(X_test), res[\"x\"], estimator, observable)\n",
    "# pred_train = forward(circuit_ibm, np.array(train_images), res['x'], estimator, observable_ibm)\n",
    "\n",
    "print(pred_test)\n",
    "\n",
    "pred_test_labels = copy.deepcopy(pred_test)\n",
    "pred_test_labels[pred_test_labels >= 0] = 1\n",
    "pred_test_labels[pred_test_labels < 0] = -1\n",
    "print(pred_test_labels)\n",
    "print(y_test)\n",
    "\n",
    "accuracy = accuracy_score(y_test, pred_test_labels)\n",
    "print(f\"Test accuracy: {accuracy * 100}%\")"
   ]
  },
  {
   "cell_type": "code",
   "execution_count": null,
   "id": "f7ace85c",
   "metadata": {},
   "outputs": [],
   "source": []
  }
 ],
 "metadata": {
  "kernelspec": {
   "display_name": ".conda",
   "language": "python",
   "name": "python3"
  },
  "language_info": {
   "codemirror_mode": {
    "name": "ipython",
    "version": 3
   },
   "file_extension": ".py",
   "mimetype": "text/x-python",
   "name": "python",
   "nbconvert_exporter": "python",
   "pygments_lexer": "ipython3",
   "version": "3.11.9"
  }
 },
 "nbformat": 4,
 "nbformat_minor": 5
}
